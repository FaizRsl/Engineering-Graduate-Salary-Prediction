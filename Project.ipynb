{
 "cells": [
  {
   "cell_type": "code",
   "execution_count": 3,
   "metadata": {},
   "outputs": [],
   "source": [
    "import numpy as np\n",
    "import pandas as pd\n",
    "import seaborn as sb\n",
    "import matplotlib.pyplot as plt\n",
    "from sklearn.linear_model import LinearRegression\n",
    "from scipy import stats"
   ]
  },
  {
   "cell_type": "code",
   "execution_count": 4,
   "metadata": {},
   "outputs": [],
   "source": [
    "sb.set()\n",
    "linreg = LinearRegression()"
   ]
  },
  {
   "cell_type": "code",
   "execution_count": 8,
   "metadata": {},
   "outputs": [],
   "source": [
    "filename = \"C:/Users/faiz_/Desktop/SC1015Project/Engineering_graduate_salary.csv\"             \n",
    "#add a new line for your own file name and comment this file name when starting the code"
   ]
  },
  {
   "cell_type": "code",
   "execution_count": 12,
   "metadata": {},
   "outputs": [],
   "source": [
    "df = pd.read_csv(filename)"
   ]
  },
  {
   "cell_type": "code",
   "execution_count": 17,
   "metadata": {},
   "outputs": [
    {
     "data": {
      "text/plain": [
       "Index(['ID', 'Gender', 'DOB', '10percentage', '10board', '12graduation',\n",
       "       '12percentage', '12board', 'CollegeID', 'CollegeTier', 'Degree',\n",
       "       'Specialization', 'collegeGPA', 'CollegeCityID', 'CollegeCityTier',\n",
       "       'CollegeState', 'GraduationYear', 'English', 'Logical', 'Quant',\n",
       "       'Domain', 'ComputerProgramming', 'ElectronicsAndSemicon',\n",
       "       'ComputerScience', 'MechanicalEngg', 'ElectricalEngg', 'TelecomEngg',\n",
       "       'CivilEngg', 'conscientiousness', 'agreeableness', 'extraversion',\n",
       "       'nueroticism', 'openess_to_experience', 'Salary'],\n",
       "      dtype='object')"
      ]
     },
     "execution_count": 17,
     "metadata": {},
     "output_type": "execute_result"
    }
   ],
   "source": [
    "#df.describe()\n",
    "df.columns"
   ]
  },
  {
   "cell_type": "markdown",
   "metadata": {},
   "source": [
    "DATA THAT I FEEL ARE RELEVANT"
   ]
  },
  {
   "cell_type": "code",
   "execution_count": 56,
   "metadata": {},
   "outputs": [],
   "source": [
    "gender = pd.DataFrame(df['Gender'])\n",
    "tenPercent = pd.DataFrame(df['10percentage']) #overall marks obtained in grade 10 examination\n",
    "twelvePercent = pd.DataFrame(df['12percentage']) #overall marks obtained in grade 12 examination\n",
    "collegeTier = pd.DataFrame(df['CollegeTier']) #the tier of the college\n",
    "degree = pd.DataFrame(df['Degree'])\n",
    "specialization = pd.DataFrame(df['Specialization'])\n",
    "salary = pd.DataFrame(df['Salary'])\n",
    "scores = pd.DataFrame(df[df.columns[17:28]]) #11 test datasets\n",
    "personality = pd.DataFrame(df[df.columns[28:33]]) #5types of personalies datasets"
   ]
  },
  {
   "cell_type": "markdown",
   "metadata": {},
   "source": [
    "Types of question i came up with\n",
    "    - does gender matter in term of salary\n",
    "    - does grade10/12 marks matter for salary\n",
    "    - does the collegeTier has anything to do with salary\n",
    "    - what degree give the most salary\n",
    "    - what specialisation give the most salary\n",
    "    - scores has 11 datasets that may determine the outcome of salary\n",
    "    - personality has 5 datasets that may  determine the outcome of salary"
   ]
  },
  {
   "cell_type": "code",
   "execution_count": 57,
   "metadata": {},
   "outputs": [
    {
     "data": {
      "text/plain": [
       "Index(['conscientiousness', 'agreeableness', 'extraversion', 'nueroticism',\n",
       "       'openess_to_experience'],\n",
       "      dtype='object')"
      ]
     },
     "execution_count": 57,
     "metadata": {},
     "output_type": "execute_result"
    }
   ],
   "source": [
    "personality.columns"
   ]
  },
  {
   "cell_type": "code",
   "execution_count": 58,
   "metadata": {},
   "outputs": [
    {
     "data": {
      "text/html": [
       "<div>\n",
       "<style scoped>\n",
       "    .dataframe tbody tr th:only-of-type {\n",
       "        vertical-align: middle;\n",
       "    }\n",
       "\n",
       "    .dataframe tbody tr th {\n",
       "        vertical-align: top;\n",
       "    }\n",
       "\n",
       "    .dataframe thead th {\n",
       "        text-align: right;\n",
       "    }\n",
       "</style>\n",
       "<table border=\"1\" class=\"dataframe\">\n",
       "  <thead>\n",
       "    <tr style=\"text-align: right;\">\n",
       "      <th></th>\n",
       "      <th>conscientiousness</th>\n",
       "      <th>agreeableness</th>\n",
       "      <th>extraversion</th>\n",
       "      <th>nueroticism</th>\n",
       "      <th>openess_to_experience</th>\n",
       "    </tr>\n",
       "  </thead>\n",
       "  <tbody>\n",
       "    <tr>\n",
       "      <td>count</td>\n",
       "      <td>2998.000000</td>\n",
       "      <td>2998.000000</td>\n",
       "      <td>2998.000000</td>\n",
       "      <td>2998.000000</td>\n",
       "      <td>2998.000000</td>\n",
       "    </tr>\n",
       "    <tr>\n",
       "      <td>mean</td>\n",
       "      <td>-0.038714</td>\n",
       "      <td>0.126217</td>\n",
       "      <td>-0.008662</td>\n",
       "      <td>-0.145965</td>\n",
       "      <td>-0.141111</td>\n",
       "    </tr>\n",
       "    <tr>\n",
       "      <td>std</td>\n",
       "      <td>1.024974</td>\n",
       "      <td>0.955831</td>\n",
       "      <td>0.962695</td>\n",
       "      <td>1.012901</td>\n",
       "      <td>1.007134</td>\n",
       "    </tr>\n",
       "    <tr>\n",
       "      <td>min</td>\n",
       "      <td>-3.893300</td>\n",
       "      <td>-5.781600</td>\n",
       "      <td>-4.600900</td>\n",
       "      <td>-2.643000</td>\n",
       "      <td>-7.375700</td>\n",
       "    </tr>\n",
       "    <tr>\n",
       "      <td>25%</td>\n",
       "      <td>-0.649100</td>\n",
       "      <td>-0.435300</td>\n",
       "      <td>-0.604800</td>\n",
       "      <td>-0.868200</td>\n",
       "      <td>-0.669200</td>\n",
       "    </tr>\n",
       "    <tr>\n",
       "      <td>50%</td>\n",
       "      <td>0.046400</td>\n",
       "      <td>0.212400</td>\n",
       "      <td>0.091400</td>\n",
       "      <td>-0.172700</td>\n",
       "      <td>-0.094300</td>\n",
       "    </tr>\n",
       "    <tr>\n",
       "      <td>75%</td>\n",
       "      <td>0.702700</td>\n",
       "      <td>0.812800</td>\n",
       "      <td>0.672000</td>\n",
       "      <td>0.526200</td>\n",
       "      <td>0.502400</td>\n",
       "    </tr>\n",
       "    <tr>\n",
       "      <td>max</td>\n",
       "      <td>1.995300</td>\n",
       "      <td>1.904800</td>\n",
       "      <td>2.161700</td>\n",
       "      <td>3.352500</td>\n",
       "      <td>1.630200</td>\n",
       "    </tr>\n",
       "  </tbody>\n",
       "</table>\n",
       "</div>"
      ],
      "text/plain": [
       "       conscientiousness  agreeableness  extraversion  nueroticism  \\\n",
       "count        2998.000000    2998.000000   2998.000000  2998.000000   \n",
       "mean           -0.038714       0.126217     -0.008662    -0.145965   \n",
       "std             1.024974       0.955831      0.962695     1.012901   \n",
       "min            -3.893300      -5.781600     -4.600900    -2.643000   \n",
       "25%            -0.649100      -0.435300     -0.604800    -0.868200   \n",
       "50%             0.046400       0.212400      0.091400    -0.172700   \n",
       "75%             0.702700       0.812800      0.672000     0.526200   \n",
       "max             1.995300       1.904800      2.161700     3.352500   \n",
       "\n",
       "       openess_to_experience  \n",
       "count            2998.000000  \n",
       "mean               -0.141111  \n",
       "std                 1.007134  \n",
       "min                -7.375700  \n",
       "25%                -0.669200  \n",
       "50%                -0.094300  \n",
       "75%                 0.502400  \n",
       "max                 1.630200  "
      ]
     },
     "execution_count": 58,
     "metadata": {},
     "output_type": "execute_result"
    }
   ],
   "source": [
    "personality.describe()"
   ]
  },
  {
   "cell_type": "code",
   "execution_count": 59,
   "metadata": {},
   "outputs": [
    {
     "data": {
      "text/plain": [
       "Index(['English', 'Logical', 'Quant', 'Domain', 'ComputerProgramming',\n",
       "       'ElectronicsAndSemicon', 'ComputerScience', 'MechanicalEngg',\n",
       "       'ElectricalEngg', 'TelecomEngg', 'CivilEngg'],\n",
       "      dtype='object')"
      ]
     },
     "execution_count": 59,
     "metadata": {},
     "output_type": "execute_result"
    }
   ],
   "source": [
    "scores.columns"
   ]
  },
  {
   "cell_type": "code",
   "execution_count": 60,
   "metadata": {},
   "outputs": [
    {
     "data": {
      "text/html": [
       "<div>\n",
       "<style scoped>\n",
       "    .dataframe tbody tr th:only-of-type {\n",
       "        vertical-align: middle;\n",
       "    }\n",
       "\n",
       "    .dataframe tbody tr th {\n",
       "        vertical-align: top;\n",
       "    }\n",
       "\n",
       "    .dataframe thead th {\n",
       "        text-align: right;\n",
       "    }\n",
       "</style>\n",
       "<table border=\"1\" class=\"dataframe\">\n",
       "  <thead>\n",
       "    <tr style=\"text-align: right;\">\n",
       "      <th></th>\n",
       "      <th>English</th>\n",
       "      <th>Logical</th>\n",
       "      <th>Quant</th>\n",
       "      <th>Domain</th>\n",
       "      <th>ComputerProgramming</th>\n",
       "      <th>ElectronicsAndSemicon</th>\n",
       "      <th>ComputerScience</th>\n",
       "      <th>MechanicalEngg</th>\n",
       "      <th>ElectricalEngg</th>\n",
       "      <th>TelecomEngg</th>\n",
       "      <th>CivilEngg</th>\n",
       "    </tr>\n",
       "  </thead>\n",
       "  <tbody>\n",
       "    <tr>\n",
       "      <td>count</td>\n",
       "      <td>2998.000000</td>\n",
       "      <td>2998.000000</td>\n",
       "      <td>2998.000000</td>\n",
       "      <td>2998.000000</td>\n",
       "      <td>2998.000000</td>\n",
       "      <td>2998.000000</td>\n",
       "      <td>2998.000000</td>\n",
       "      <td>2998.000000</td>\n",
       "      <td>2998.000000</td>\n",
       "      <td>2998.000000</td>\n",
       "      <td>2998.000000</td>\n",
       "    </tr>\n",
       "    <tr>\n",
       "      <td>mean</td>\n",
       "      <td>501.066378</td>\n",
       "      <td>500.431621</td>\n",
       "      <td>514.137759</td>\n",
       "      <td>0.508458</td>\n",
       "      <td>351.868579</td>\n",
       "      <td>96.228152</td>\n",
       "      <td>94.147098</td>\n",
       "      <td>24.138759</td>\n",
       "      <td>16.267845</td>\n",
       "      <td>31.068379</td>\n",
       "      <td>1.946965</td>\n",
       "    </tr>\n",
       "    <tr>\n",
       "      <td>std</td>\n",
       "      <td>105.304512</td>\n",
       "      <td>87.299850</td>\n",
       "      <td>122.194955</td>\n",
       "      <td>0.463373</td>\n",
       "      <td>204.526227</td>\n",
       "      <td>158.737747</td>\n",
       "      <td>177.784536</td>\n",
       "      <td>99.785138</td>\n",
       "      <td>86.054739</td>\n",
       "      <td>103.552963</td>\n",
       "      <td>32.241501</td>\n",
       "    </tr>\n",
       "    <tr>\n",
       "      <td>min</td>\n",
       "      <td>180.000000</td>\n",
       "      <td>195.000000</td>\n",
       "      <td>120.000000</td>\n",
       "      <td>-1.000000</td>\n",
       "      <td>-1.000000</td>\n",
       "      <td>-1.000000</td>\n",
       "      <td>-1.000000</td>\n",
       "      <td>-1.000000</td>\n",
       "      <td>-1.000000</td>\n",
       "      <td>-1.000000</td>\n",
       "      <td>-1.000000</td>\n",
       "    </tr>\n",
       "    <tr>\n",
       "      <td>25%</td>\n",
       "      <td>425.000000</td>\n",
       "      <td>441.250000</td>\n",
       "      <td>430.000000</td>\n",
       "      <td>0.342315</td>\n",
       "      <td>295.000000</td>\n",
       "      <td>-1.000000</td>\n",
       "      <td>-1.000000</td>\n",
       "      <td>-1.000000</td>\n",
       "      <td>-1.000000</td>\n",
       "      <td>-1.000000</td>\n",
       "      <td>-1.000000</td>\n",
       "    </tr>\n",
       "    <tr>\n",
       "      <td>50%</td>\n",
       "      <td>500.000000</td>\n",
       "      <td>505.000000</td>\n",
       "      <td>515.000000</td>\n",
       "      <td>0.622643</td>\n",
       "      <td>415.000000</td>\n",
       "      <td>-1.000000</td>\n",
       "      <td>-1.000000</td>\n",
       "      <td>-1.000000</td>\n",
       "      <td>-1.000000</td>\n",
       "      <td>-1.000000</td>\n",
       "      <td>-1.000000</td>\n",
       "    </tr>\n",
       "    <tr>\n",
       "      <td>75%</td>\n",
       "      <td>570.000000</td>\n",
       "      <td>565.000000</td>\n",
       "      <td>595.000000</td>\n",
       "      <td>0.835612</td>\n",
       "      <td>495.000000</td>\n",
       "      <td>233.000000</td>\n",
       "      <td>-1.000000</td>\n",
       "      <td>-1.000000</td>\n",
       "      <td>-1.000000</td>\n",
       "      <td>-1.000000</td>\n",
       "      <td>-1.000000</td>\n",
       "    </tr>\n",
       "    <tr>\n",
       "      <td>max</td>\n",
       "      <td>875.000000</td>\n",
       "      <td>795.000000</td>\n",
       "      <td>900.000000</td>\n",
       "      <td>0.999910</td>\n",
       "      <td>804.000000</td>\n",
       "      <td>612.000000</td>\n",
       "      <td>715.000000</td>\n",
       "      <td>623.000000</td>\n",
       "      <td>660.000000</td>\n",
       "      <td>548.000000</td>\n",
       "      <td>500.000000</td>\n",
       "    </tr>\n",
       "  </tbody>\n",
       "</table>\n",
       "</div>"
      ],
      "text/plain": [
       "           English      Logical        Quant       Domain  \\\n",
       "count  2998.000000  2998.000000  2998.000000  2998.000000   \n",
       "mean    501.066378   500.431621   514.137759     0.508458   \n",
       "std     105.304512    87.299850   122.194955     0.463373   \n",
       "min     180.000000   195.000000   120.000000    -1.000000   \n",
       "25%     425.000000   441.250000   430.000000     0.342315   \n",
       "50%     500.000000   505.000000   515.000000     0.622643   \n",
       "75%     570.000000   565.000000   595.000000     0.835612   \n",
       "max     875.000000   795.000000   900.000000     0.999910   \n",
       "\n",
       "       ComputerProgramming  ElectronicsAndSemicon  ComputerScience  \\\n",
       "count          2998.000000            2998.000000      2998.000000   \n",
       "mean            351.868579              96.228152        94.147098   \n",
       "std             204.526227             158.737747       177.784536   \n",
       "min              -1.000000              -1.000000        -1.000000   \n",
       "25%             295.000000              -1.000000        -1.000000   \n",
       "50%             415.000000              -1.000000        -1.000000   \n",
       "75%             495.000000             233.000000        -1.000000   \n",
       "max             804.000000             612.000000       715.000000   \n",
       "\n",
       "       MechanicalEngg  ElectricalEngg  TelecomEngg    CivilEngg  \n",
       "count     2998.000000     2998.000000  2998.000000  2998.000000  \n",
       "mean        24.138759       16.267845    31.068379     1.946965  \n",
       "std         99.785138       86.054739   103.552963    32.241501  \n",
       "min         -1.000000       -1.000000    -1.000000    -1.000000  \n",
       "25%         -1.000000       -1.000000    -1.000000    -1.000000  \n",
       "50%         -1.000000       -1.000000    -1.000000    -1.000000  \n",
       "75%         -1.000000       -1.000000    -1.000000    -1.000000  \n",
       "max        623.000000      660.000000   548.000000   500.000000  "
      ]
     },
     "execution_count": 60,
     "metadata": {},
     "output_type": "execute_result"
    }
   ],
   "source": [
    "scores.describe()"
   ]
  },
  {
   "cell_type": "markdown",
   "metadata": {},
   "source": []
  }
 ],
 "metadata": {
  "kernelspec": {
   "display_name": "Python 3",
   "language": "python",
   "name": "python3"
  },
  "language_info": {
   "codemirror_mode": {
    "name": "ipython",
    "version": 3
   },
   "file_extension": ".py",
   "mimetype": "text/x-python",
   "name": "python",
   "nbconvert_exporter": "python",
   "pygments_lexer": "ipython3",
   "version": "3.7.4"
  }
 },
 "nbformat": 4,
 "nbformat_minor": 2
}
